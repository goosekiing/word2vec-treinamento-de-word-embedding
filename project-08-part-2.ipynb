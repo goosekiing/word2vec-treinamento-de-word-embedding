{
 "cells": [
  {
   "cell_type": "code",
   "execution_count": 21,
   "metadata": {},
   "outputs": [],
   "source": [
    "import pandas as pd\n",
    "import numpy as np\n",
    "import spacy\n",
    "from gensim.models import KeyedVectors\n",
    "from sklearn.linear_model import LogisticRegression\n",
    "from sklearn.metrics import classification_report\n",
    "import pickle"
   ]
  },
  {
   "cell_type": "code",
   "execution_count": 13,
   "metadata": {},
   "outputs": [
    {
     "data": {
      "text/html": [
       "<div>\n",
       "<style scoped>\n",
       "    .dataframe tbody tr th:only-of-type {\n",
       "        vertical-align: middle;\n",
       "    }\n",
       "\n",
       "    .dataframe tbody tr th {\n",
       "        vertical-align: top;\n",
       "    }\n",
       "\n",
       "    .dataframe thead th {\n",
       "        text-align: right;\n",
       "    }\n",
       "</style>\n",
       "<table border=\"1\" class=\"dataframe\">\n",
       "  <thead>\n",
       "    <tr style=\"text-align: right;\">\n",
       "      <th></th>\n",
       "      <th>title</th>\n",
       "      <th>text</th>\n",
       "      <th>date</th>\n",
       "      <th>category</th>\n",
       "      <th>subcategory</th>\n",
       "      <th>link</th>\n",
       "    </tr>\n",
       "  </thead>\n",
       "  <tbody>\n",
       "    <tr>\n",
       "      <th>64047</th>\n",
       "      <td>Negociação entre Odebrecht e MPF na Lava Jato ...</td>\n",
       "      <td>A negociação entre a Odebrecht e o Ministério ...</td>\n",
       "      <td>2016-08-26</td>\n",
       "      <td>colunas</td>\n",
       "      <td>monicabergamo</td>\n",
       "      <td>http://www1.folha.uol.com.br/colunas/monicaber...</td>\n",
       "    </tr>\n",
       "    <tr>\n",
       "      <th>38754</th>\n",
       "      <td>Irã cancela conferência em Londres sobre contr...</td>\n",
       "      <td>O Irã cancelou uma conferência em Londres onde...</td>\n",
       "      <td>2016-01-30</td>\n",
       "      <td>mercado</td>\n",
       "      <td>NaN</td>\n",
       "      <td>http://www1.folha.uol.com.br/mercado/2016/01/1...</td>\n",
       "    </tr>\n",
       "    <tr>\n",
       "      <th>83780</th>\n",
       "      <td>De volta à zona de rebaixamento</td>\n",
       "      <td>Dilma Rousseff vai vetar a contrarreforma da P...</td>\n",
       "      <td>2015-06-18</td>\n",
       "      <td>colunas</td>\n",
       "      <td>viniciustorres</td>\n",
       "      <td>http://www1.folha.uol.com.br/colunas/viniciust...</td>\n",
       "    </tr>\n",
       "  </tbody>\n",
       "</table>\n",
       "</div>"
      ],
      "text/plain": [
       "                                                   title  \\\n",
       "64047  Negociação entre Odebrecht e MPF na Lava Jato ...   \n",
       "38754  Irã cancela conferência em Londres sobre contr...   \n",
       "83780                    De volta à zona de rebaixamento   \n",
       "\n",
       "                                                    text        date category  \\\n",
       "64047  A negociação entre a Odebrecht e o Ministério ...  2016-08-26  colunas   \n",
       "38754  O Irã cancelou uma conferência em Londres onde...  2016-01-30  mercado   \n",
       "83780  Dilma Rousseff vai vetar a contrarreforma da P...  2015-06-18  colunas   \n",
       "\n",
       "          subcategory                                               link  \n",
       "64047   monicabergamo  http://www1.folha.uol.com.br/colunas/monicaber...  \n",
       "38754             NaN  http://www1.folha.uol.com.br/mercado/2016/01/1...  \n",
       "83780  viniciustorres  http://www1.folha.uol.com.br/colunas/viniciust...  "
      ]
     },
     "metadata": {},
     "output_type": "display_data"
    },
    {
     "data": {
      "text/html": [
       "<div>\n",
       "<style scoped>\n",
       "    .dataframe tbody tr th:only-of-type {\n",
       "        vertical-align: middle;\n",
       "    }\n",
       "\n",
       "    .dataframe tbody tr th {\n",
       "        vertical-align: top;\n",
       "    }\n",
       "\n",
       "    .dataframe thead th {\n",
       "        text-align: right;\n",
       "    }\n",
       "</style>\n",
       "<table border=\"1\" class=\"dataframe\">\n",
       "  <thead>\n",
       "    <tr style=\"text-align: right;\">\n",
       "      <th></th>\n",
       "      <th>title</th>\n",
       "      <th>text</th>\n",
       "      <th>date</th>\n",
       "      <th>category</th>\n",
       "      <th>subcategory</th>\n",
       "      <th>link</th>\n",
       "    </tr>\n",
       "  </thead>\n",
       "  <tbody>\n",
       "    <tr>\n",
       "      <th>10868</th>\n",
       "      <td>Profissional precisa saber se renovar e ir em ...</td>\n",
       "      <td>A cena é bem comum: o chefe convoca uma reuniã...</td>\n",
       "      <td>2017-07-05</td>\n",
       "      <td>colunas</td>\n",
       "      <td>americo-jose</td>\n",
       "      <td>http://www1.folha.uol.com.br/colunas/americo-j...</td>\n",
       "    </tr>\n",
       "    <tr>\n",
       "      <th>13162</th>\n",
       "      <td>Neymar é dúvida para último amistoso antes da ...</td>\n",
       "      <td>O atacante Neymar deverá ser poupado no amisto...</td>\n",
       "      <td>2015-02-06</td>\n",
       "      <td>esporte</td>\n",
       "      <td>NaN</td>\n",
       "      <td>http://www1.folha.uol.com.br/esporte/2015/06/1...</td>\n",
       "    </tr>\n",
       "    <tr>\n",
       "      <th>996</th>\n",
       "      <td>Morre aos 88 anos o ex-presidente do Uruguai J...</td>\n",
       "      <td>Morreu nesta segunda-feira (24), aos 88 anos, ...</td>\n",
       "      <td>2016-10-24</td>\n",
       "      <td>mundo</td>\n",
       "      <td>NaN</td>\n",
       "      <td>http://www1.folha.uol.com.br/mundo/2016/10/182...</td>\n",
       "    </tr>\n",
       "  </tbody>\n",
       "</table>\n",
       "</div>"
      ],
      "text/plain": [
       "                                                   title  \\\n",
       "10868  Profissional precisa saber se renovar e ir em ...   \n",
       "13162  Neymar é dúvida para último amistoso antes da ...   \n",
       "996    Morre aos 88 anos o ex-presidente do Uruguai J...   \n",
       "\n",
       "                                                    text        date category  \\\n",
       "10868  A cena é bem comum: o chefe convoca uma reuniã...  2017-07-05  colunas   \n",
       "13162  O atacante Neymar deverá ser poupado no amisto...  2015-02-06  esporte   \n",
       "996    Morreu nesta segunda-feira (24), aos 88 anos, ...  2016-10-24    mundo   \n",
       "\n",
       "        subcategory                                               link  \n",
       "10868  americo-jose  http://www1.folha.uol.com.br/colunas/americo-j...  \n",
       "13162           NaN  http://www1.folha.uol.com.br/esporte/2015/06/1...  \n",
       "996             NaN  http://www1.folha.uol.com.br/mundo/2016/10/182...  "
      ]
     },
     "metadata": {},
     "output_type": "display_data"
    }
   ],
   "source": [
    "dados_treino = pd.read_csv(r\"..\\06-word2vec-interpretação-da-linguagem-humana-com-word-embedding\\database-train-project-07.csv\")\n",
    "dados_teste = pd.read_csv(r\"..\\06-word2vec-interpretação-da-linguagem-humana-com-word-embedding\\database-test-project-07.csv\")\n",
    "display(dados_treino.sample(3), dados_teste.sample(3))"
   ]
  },
  {
   "cell_type": "code",
   "execution_count": 7,
   "metadata": {},
   "outputs": [],
   "source": [
    "w2v_modelo_cbow = KeyedVectors.load_word2vec_format(r\"modelo_cbow.txt\")\n",
    "w2v_modelo_sg = KeyedVectors.load_word2vec_format(r\"modelo_skipgram.txt\")"
   ]
  },
  {
   "cell_type": "code",
   "execution_count": 4,
   "metadata": {},
   "outputs": [
    {
     "data": {
      "text/plain": [
       "['palmeiras', 'perdeu', 'semi', 'libertadores', 'boca', 'juniors', 'empate']"
      ]
     },
     "execution_count": 4,
     "metadata": {},
     "output_type": "execute_result"
    }
   ],
   "source": [
    "nlp = spacy.load(\"pt_core_news_sm\", disable=[\"parser\", \"ner\", \"tagger\", \"textcat\"])\n",
    "\n",
    "def tokenizador(texto):\n",
    "    doc = nlp(texto)\n",
    "    tokens_validos = []\n",
    "    for token in doc:\n",
    "        eh_valido = not token.is_stop and token.is_alpha\n",
    "        if eh_valido:\n",
    "            tokens_validos.append(token.text.lower())\n",
    "    return tokens_validos\n",
    "\n",
    "texto = \"O Palmeiras perdeu 1 semi final da Libertadores para o Boca Juniors em um empate por 1x1!\"\n",
    "tokens = tokenizador(texto)\n",
    "tokens"
   ]
  },
  {
   "cell_type": "code",
   "execution_count": 9,
   "metadata": {},
   "outputs": [
    {
     "name": "stdout",
     "output_type": "stream",
     "text": [
      "300\n",
      "[ 0.7801878   4.29842284  0.73926125 -0.59416728 -0.49637394  1.7796951\n",
      "  2.40363423 -0.0380234  -2.90397643 -1.99402136  2.54409689  0.89306743\n",
      " -3.59675396  2.25159883  0.27661065 -1.17617911  0.16990768 -0.35642757\n",
      "  1.14840138 -0.11481817 -0.22703961 -0.01138543 -0.95771215 -1.55581608\n",
      "  6.22016279 -2.04617444 -0.01446276 -3.50416368 -1.97179233  0.47403601\n",
      "  0.46386492 -3.73994265 -1.13137485 -1.20119155 -0.13847727  3.88534208\n",
      " -0.64474485 -1.81743231  0.07957454 -2.47289099 -0.3603785  -1.06822372\n",
      "  0.21558981 -0.22324412 -0.02779173 -0.88661775  0.00894104 -0.76671262\n",
      "  2.31741935  3.11644012  1.1674245  -2.05426128 -2.6579865   1.85141905\n",
      " -3.20050356  0.26815718 -2.63129355  0.75755293  1.27484564 -0.55828496\n",
      " -0.20795769  5.79226662  1.44829729 -0.25450409 -0.76137707 -0.79803135\n",
      " -2.15402102  0.8003252   1.12725202 -2.47211276 -2.97405961  1.55036492\n",
      " -1.67372388  0.40550135 -1.55049349  0.43695844 -0.88900382  0.15613291\n",
      " -0.03844961  4.52814457 -0.33301951  2.7577082  -2.67321943  2.88736148\n",
      "  1.88893342  1.42088456 -0.17112157  1.43645209  3.51457932  2.40369451\n",
      "  1.08094491 -1.04964507 -1.4918411  -2.57210687  0.45356394  5.12895839\n",
      "  6.00585885 -0.30342244 -3.79338641  1.62463164  1.45653549  1.55654946\n",
      " -2.03291344  1.84335271  2.46525925  4.42868017 -0.04190027  1.58919562\n",
      " -1.78595151 -0.89687555 -2.11526653 -4.25968535  2.23608879  0.33321826\n",
      " -1.96372391 -2.10592485 -2.45426979  1.5927298  -1.72744052 -1.58925156\n",
      "  1.95544303 -5.59396079  0.97735099  0.4395881  -3.49120379 -3.86038825\n",
      " -2.04553638 -1.78823378  0.31393173  3.11384305 -0.80151159  5.20874855\n",
      "  0.71686591 -2.85355758 -2.63243671 -0.79953423 -1.97835851  1.33405405\n",
      " -3.8271964  -2.11653177  1.46286896  0.12870061  4.50427878 -0.58693189\n",
      "  2.26700096 -1.8058019  -2.2317622  -2.53802111 -5.95370597 -0.69923627\n",
      "  2.7699526  -3.50317493  2.51195511 -2.20728453 -4.14578406 -0.91581048\n",
      "  0.26681437 -1.35902919  3.25745063  2.67625032  4.93645364 -0.90803938\n",
      " -1.03279646 -2.82598887 -1.29207198  0.69251086  0.09411647  2.52953475\n",
      " -0.43594477 -3.12901318 -1.19808884 -0.75669321 -1.66862583 -0.57623108\n",
      " -1.99269296 -1.59897348  3.32318962 -1.12675724 -3.72767037  0.02352691\n",
      " -0.83535392 -2.37066039  0.09194561 -1.8666039  -3.10962313  0.93013956\n",
      " -2.06285307  0.69000183  0.53498005  0.33374143 -0.66702996 -3.06850916\n",
      " -3.06648038  0.80241099 -0.73984149 -3.73741184  2.31741963 -2.23772219\n",
      "  0.80810642 -1.4835774  -3.13717509 -3.43523113 -0.24831132 -0.38386015\n",
      " -5.21817261  2.4847047   0.70612017 -1.37629549 -0.9923538   0.5492455\n",
      "  0.10182352 -3.1512763   0.51253791 -1.19057682 -1.59449071 -3.49294202\n",
      " -5.50407241 -3.897419   -3.04125834 -0.66420649 -1.41673706 -0.83413586\n",
      "  0.50751902  3.82265734 -0.73302883  1.72903836 -6.87689531 -4.52930528\n",
      " -0.97758219 -3.92761916  0.35548179 -0.74580049  0.12849196  2.28539914\n",
      " -1.6104216   1.00471774 -0.85355702 -1.15600606 -1.28811665 -1.22991004\n",
      "  0.12427534 -1.66904559 -0.40264289 -1.44661085  0.88277963 -1.24938259\n",
      " -1.64773193  0.20392235  2.8108838   0.01948445 -3.11795541 -3.69315487\n",
      "  2.17225748  2.17478727  0.06484706 -1.18308558  0.5687494  -4.67071861\n",
      " -3.27755368 -0.72434563 -1.96892743  1.76155685  0.45739197 -0.74596021\n",
      " -0.29061527  2.99913147  1.05557124  0.33209864 -0.02702009 -0.34979736\n",
      " -2.15224412  3.67784634 -2.412496   -1.51946558  3.57183179  3.82269837\n",
      " -2.40425811  0.65746339  0.79456337 -3.27603039  3.9755596   1.68282557\n",
      " -0.95667084 -0.89805036 -5.4519209  -0.34102406 -2.38783226 -0.83220198\n",
      "  1.20583623  8.55270152 -1.6222705   2.10354613 -4.24126613  1.56774281\n",
      "  1.27497761  2.1826378  -1.42455558 -1.49766089  2.66210276 -1.6887399 ]\n"
     ]
    }
   ],
   "source": [
    "def combinacao_de_vetores_por_soma(palavras, modelo):\n",
    "    vetor_resultante = np.zeros(300)\n",
    "    for pn in palavras:\n",
    "        try:\n",
    "            vetor_resultante += modelo.get_vector(pn)\n",
    "        except KeyError:\n",
    "            pass            \n",
    "    return vetor_resultante\n",
    "\n",
    "vetor_texto = combinacao_de_vetores_por_soma(tokens, w2v_modelo_cbow)\n",
    "print(len(vetor_texto))\n",
    "print(vetor_texto)"
   ]
  },
  {
   "cell_type": "code",
   "execution_count": 10,
   "metadata": {},
   "outputs": [],
   "source": [
    "def matriz_vetores(textos, modelo):\n",
    "    x = len(textos)\n",
    "    y = 300\n",
    "    matriz = np.zeros((x,y))\n",
    "\n",
    "    for i in range(x):\n",
    "        titulo_tokenizado = tokenizador(textos.iloc[i])\n",
    "        matriz[i] = combinacao_de_vetores_por_soma(titulo_tokenizado, modelo)\n",
    "\n",
    "    return matriz"
   ]
  },
  {
   "cell_type": "code",
   "execution_count": 14,
   "metadata": {},
   "outputs": [
    {
     "name": "stdout",
     "output_type": "stream",
     "text": [
      "(90000, 300)\n",
      "(20513, 300)\n"
     ]
    }
   ],
   "source": [
    "matriz_vetores_treino_cbow = matriz_vetores(dados_treino[\"title\"], w2v_modelo_cbow)\n",
    "matriz_vetores_teste_cbow = matriz_vetores(dados_teste[\"title\"], w2v_modelo_cbow)\n",
    "print(matriz_vetores_treino_cbow.shape)\n",
    "print(matriz_vetores_teste_cbow.shape)"
   ]
  },
  {
   "cell_type": "code",
   "execution_count": 19,
   "metadata": {},
   "outputs": [
    {
     "name": "stdout",
     "output_type": "stream",
     "text": [
      "(90000, 300)\n",
      "(20513, 300)\n"
     ]
    }
   ],
   "source": [
    "matriz_vetores_treino_sg = matriz_vetores(dados_treino[\"title\"], w2v_modelo_sg)\n",
    "matriz_vetores_teste_sg = matriz_vetores(dados_teste[\"title\"], w2v_modelo_sg)\n",
    "print(matriz_vetores_treino_sg.shape)\n",
    "print(matriz_vetores_teste_sg.shape)"
   ]
  },
  {
   "cell_type": "code",
   "execution_count": 16,
   "metadata": {},
   "outputs": [],
   "source": [
    "def classificador(modelo, x_treino, y_treino, x_teste, y_teste):\n",
    "    RL = LogisticRegression(max_iter=800)\n",
    "    RL.fit(x_treino, y_treino)\n",
    "    categorias = RL.predict(x_teste)\n",
    "    resultados = classification_report(y_teste, categorias)\n",
    "    print(resultados)\n",
    "    return RL"
   ]
  },
  {
   "cell_type": "code",
   "execution_count": 17,
   "metadata": {},
   "outputs": [
    {
     "name": "stdout",
     "output_type": "stream",
     "text": [
      "              precision    recall  f1-score   support\n",
      "\n",
      "     colunas       0.80      0.71      0.75      6103\n",
      "   cotidiano       0.64      0.81      0.71      1698\n",
      "     esporte       0.93      0.87      0.89      4663\n",
      "   ilustrada       0.13      0.85      0.23       131\n",
      "     mercado       0.84      0.78      0.81      5867\n",
      "       mundo       0.74      0.83      0.78      2051\n",
      "\n",
      "    accuracy                           0.79     20513\n",
      "   macro avg       0.68      0.81      0.70     20513\n",
      "weighted avg       0.82      0.79      0.80     20513\n",
      "\n"
     ]
    }
   ],
   "source": [
    "RL_cbow = classificador(modelo= w2v_modelo_cbow,\n",
    "                        x_treino= matriz_vetores_treino_cbow,\n",
    "                        y_treino= dados_treino[\"category\"],\n",
    "                        x_teste= matriz_vetores_teste_cbow,\n",
    "                        y_teste= dados_teste[\"category\"])"
   ]
  },
  {
   "cell_type": "code",
   "execution_count": 20,
   "metadata": {},
   "outputs": [
    {
     "name": "stdout",
     "output_type": "stream",
     "text": [
      "              precision    recall  f1-score   support\n",
      "\n",
      "     colunas       0.81      0.71      0.76      6103\n",
      "   cotidiano       0.64      0.80      0.71      1698\n",
      "     esporte       0.93      0.87      0.90      4663\n",
      "   ilustrada       0.14      0.85      0.24       131\n",
      "     mercado       0.84      0.79      0.81      5867\n",
      "       mundo       0.75      0.84      0.79      2051\n",
      "\n",
      "    accuracy                           0.79     20513\n",
      "   macro avg       0.68      0.81      0.70     20513\n",
      "weighted avg       0.82      0.79      0.80     20513\n",
      "\n"
     ]
    }
   ],
   "source": [
    "RL_sg = classificador(modelo= w2v_modelo_sg,\n",
    "                        x_treino= matriz_vetores_treino_sg,\n",
    "                        y_treino= dados_treino[\"category\"],\n",
    "                        x_teste= matriz_vetores_teste_sg,\n",
    "                        y_teste= dados_teste[\"category\"])"
   ]
  },
  {
   "cell_type": "code",
   "execution_count": 22,
   "metadata": {},
   "outputs": [],
   "source": [
    "with open(\"rl_cbow.pkl\", \"wb\") as f:\n",
    "    pickle.dump(RL_cbow, f)"
   ]
  },
  {
   "cell_type": "code",
   "execution_count": 23,
   "metadata": {},
   "outputs": [],
   "source": [
    "with open(\"rl_sg.pkl\", \"wb\") as f:\n",
    "    pickle.dump(RL_sg, f)"
   ]
  }
 ],
 "metadata": {
  "kernelspec": {
   "display_name": "Python 3",
   "language": "python",
   "name": "python3"
  },
  "language_info": {
   "codemirror_mode": {
    "name": "ipython",
    "version": 3
   },
   "file_extension": ".py",
   "mimetype": "text/x-python",
   "name": "python",
   "nbconvert_exporter": "python",
   "pygments_lexer": "ipython3",
   "version": "3.11.4"
  }
 },
 "nbformat": 4,
 "nbformat_minor": 2
}
