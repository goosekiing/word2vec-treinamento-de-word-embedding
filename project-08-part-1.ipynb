{
 "cells": [
  {
   "cell_type": "code",
   "execution_count": 2,
   "metadata": {},
   "outputs": [],
   "source": [
    "import pandas as pd\n",
    "import spacy\n",
    "from time import time\n",
    "from gensim.models import Word2Vec\n",
    "import logging"
   ]
  },
  {
   "cell_type": "code",
   "execution_count": 9,
   "metadata": {},
   "outputs": [
    {
     "data": {
      "text/html": [
       "<div>\n",
       "<style scoped>\n",
       "    .dataframe tbody tr th:only-of-type {\n",
       "        vertical-align: middle;\n",
       "    }\n",
       "\n",
       "    .dataframe tbody tr th {\n",
       "        vertical-align: top;\n",
       "    }\n",
       "\n",
       "    .dataframe thead th {\n",
       "        text-align: right;\n",
       "    }\n",
       "</style>\n",
       "<table border=\"1\" class=\"dataframe\">\n",
       "  <thead>\n",
       "    <tr style=\"text-align: right;\">\n",
       "      <th></th>\n",
       "      <th>title</th>\n",
       "      <th>text</th>\n",
       "      <th>date</th>\n",
       "      <th>category</th>\n",
       "      <th>subcategory</th>\n",
       "      <th>link</th>\n",
       "    </tr>\n",
       "  </thead>\n",
       "  <tbody>\n",
       "    <tr>\n",
       "      <th>91</th>\n",
       "      <td>Vereadores atuam contra ciclovias, e secretári...</td>\n",
       "      <td>A vereadora Edir Sales (PSD) já organizou abai...</td>\n",
       "      <td>2017-05-27</td>\n",
       "      <td>cotidiano</td>\n",
       "      <td>NaN</td>\n",
       "      <td>http://www1.folha.uol.com.br/cotidiano/2017/05...</td>\n",
       "    </tr>\n",
       "    <tr>\n",
       "      <th>11241</th>\n",
       "      <td>Hiroshima recorda bombardeio e pede desarmamen...</td>\n",
       "      <td>Os japoneses relembraram neste domingo (6) o p...</td>\n",
       "      <td>2017-06-08</td>\n",
       "      <td>mundo</td>\n",
       "      <td>NaN</td>\n",
       "      <td>http://www1.folha.uol.com.br/mundo/2017/08/190...</td>\n",
       "    </tr>\n",
       "    <tr>\n",
       "      <th>14279</th>\n",
       "      <td>No Rio, tratamentos de câncer são interrompido...</td>\n",
       "      <td>Quase a metade dos tratamentos de câncer na ca...</td>\n",
       "      <td>2017-03-14</td>\n",
       "      <td>cotidiano</td>\n",
       "      <td>NaN</td>\n",
       "      <td>http://www1.folha.uol.com.br/cotidiano/2017/03...</td>\n",
       "    </tr>\n",
       "  </tbody>\n",
       "</table>\n",
       "</div>"
      ],
      "text/plain": [
       "                                                   title  \\\n",
       "91     Vereadores atuam contra ciclovias, e secretári...   \n",
       "11241  Hiroshima recorda bombardeio e pede desarmamen...   \n",
       "14279  No Rio, tratamentos de câncer são interrompido...   \n",
       "\n",
       "                                                    text        date  \\\n",
       "91     A vereadora Edir Sales (PSD) já organizou abai...  2017-05-27   \n",
       "11241  Os japoneses relembraram neste domingo (6) o p...  2017-06-08   \n",
       "14279  Quase a metade dos tratamentos de câncer na ca...  2017-03-14   \n",
       "\n",
       "        category subcategory  \\\n",
       "91     cotidiano         NaN   \n",
       "11241      mundo         NaN   \n",
       "14279  cotidiano         NaN   \n",
       "\n",
       "                                                    link  \n",
       "91     http://www1.folha.uol.com.br/cotidiano/2017/05...  \n",
       "11241  http://www1.folha.uol.com.br/mundo/2017/08/190...  \n",
       "14279  http://www1.folha.uol.com.br/cotidiano/2017/03...  "
      ]
     },
     "metadata": {},
     "output_type": "display_data"
    },
    {
     "data": {
      "text/html": [
       "<div>\n",
       "<style scoped>\n",
       "    .dataframe tbody tr th:only-of-type {\n",
       "        vertical-align: middle;\n",
       "    }\n",
       "\n",
       "    .dataframe tbody tr th {\n",
       "        vertical-align: top;\n",
       "    }\n",
       "\n",
       "    .dataframe thead th {\n",
       "        text-align: right;\n",
       "    }\n",
       "</style>\n",
       "<table border=\"1\" class=\"dataframe\">\n",
       "  <thead>\n",
       "    <tr style=\"text-align: right;\">\n",
       "      <th></th>\n",
       "      <th>title</th>\n",
       "      <th>text</th>\n",
       "      <th>date</th>\n",
       "      <th>category</th>\n",
       "      <th>subcategory</th>\n",
       "      <th>link</th>\n",
       "    </tr>\n",
       "  </thead>\n",
       "  <tbody>\n",
       "    <tr>\n",
       "      <th>11762</th>\n",
       "      <td>Barclays vai encerrar sua cobertura doméstica ...</td>\n",
       "      <td>O Barclays iniciou uma nova rodada de corte de...</td>\n",
       "      <td>2016-01-21</td>\n",
       "      <td>mercado</td>\n",
       "      <td>NaN</td>\n",
       "      <td>http://www1.folha.uol.com.br/mercado/2016/01/1...</td>\n",
       "    </tr>\n",
       "    <tr>\n",
       "      <th>3637</th>\n",
       "      <td>Trump ameaça aliados que votarem contra lei qu...</td>\n",
       "      <td>Para os deputados republicanos que ainda estão...</td>\n",
       "      <td>2017-03-21</td>\n",
       "      <td>mundo</td>\n",
       "      <td>NaN</td>\n",
       "      <td>http://www1.folha.uol.com.br/mundo/2017/03/186...</td>\n",
       "    </tr>\n",
       "    <tr>\n",
       "      <th>18914</th>\n",
       "      <td>Não há perseguição política contra Cristina Ki...</td>\n",
       "      <td>Responsável por duas das principais denúncias ...</td>\n",
       "      <td>2016-08-23</td>\n",
       "      <td>mundo</td>\n",
       "      <td>NaN</td>\n",
       "      <td>http://www1.folha.uol.com.br/mundo/2016/08/180...</td>\n",
       "    </tr>\n",
       "  </tbody>\n",
       "</table>\n",
       "</div>"
      ],
      "text/plain": [
       "                                                   title  \\\n",
       "11762  Barclays vai encerrar sua cobertura doméstica ...   \n",
       "3637   Trump ameaça aliados que votarem contra lei qu...   \n",
       "18914  Não há perseguição política contra Cristina Ki...   \n",
       "\n",
       "                                                    text        date category  \\\n",
       "11762  O Barclays iniciou uma nova rodada de corte de...  2016-01-21  mercado   \n",
       "3637   Para os deputados republicanos que ainda estão...  2017-03-21    mundo   \n",
       "18914  Responsável por duas das principais denúncias ...  2016-08-23    mundo   \n",
       "\n",
       "      subcategory                                               link  \n",
       "11762         NaN  http://www1.folha.uol.com.br/mercado/2016/01/1...  \n",
       "3637          NaN  http://www1.folha.uol.com.br/mundo/2017/03/186...  \n",
       "18914         NaN  http://www1.folha.uol.com.br/mundo/2016/08/180...  "
      ]
     },
     "metadata": {},
     "output_type": "display_data"
    }
   ],
   "source": [
    "# dados_treino = pd.read_csv(r\"..\\06-word2vec-interpretação-da-linguagem-humana-com-word-embedding\\database-train-project-07.csv\")\n",
    "# dados_teste = pd.read_csv(r\"..\\06-word2vec-interpretação-da-linguagem-humana-com-word-embedding\\database-test-project-07.csv\")\n",
    "\n",
    "dados_teste = pd.read_csv(\"https://raw.githubusercontent.com/goosekiing/word2vec-interpretacao-da-linguagem-humana-com-word-embedding/eb26014ad11cf54981bc048c541f4b28f8f0337b/database-test-project-07.csv\")\n",
    "dados_treino = pd.concat([pd.read_csv(f\"https://raw.githubusercontent.com/goosekiing/word2vec-interpretacao-da-linguagem-humana-com-word-embedding/eb26014ad11cf54981bc048c541f4b28f8f0337b/database-train-project-07-part-{i+1}.csv\") for i in range(3)])\n",
    "\n",
    "display(dados_treino.sample(3), dados_teste.sample(3))"
   ]
  },
  {
   "cell_type": "code",
   "execution_count": 4,
   "metadata": {},
   "outputs": [
    {
     "data": {
      "text/plain": [
       "<spacy.lang.pt.Portuguese at 0x2ae8f854ad0>"
      ]
     },
     "execution_count": 4,
     "metadata": {},
     "output_type": "execute_result"
    }
   ],
   "source": [
    "nlp = spacy.load(\"pt_core_news_sm\")\n",
    "nlp"
   ]
  },
  {
   "cell_type": "code",
   "execution_count": 5,
   "metadata": {},
   "outputs": [
    {
     "name": "stdout",
     "output_type": "stream",
     "text": [
      "O Palmeiras perdeu 1 semi final da Libertadores para o Boca Juniors em um empate por 1x1!\n",
      "<class 'spacy.tokens.doc.Doc'>\n"
     ]
    }
   ],
   "source": [
    "texto = \"O Palmeiras perdeu 1 semi final da Libertadores para o Boca Juniors em um empate por 1x1!\"\n",
    "doc = nlp(texto)\n",
    "print(doc)\n",
    "print(type(doc))"
   ]
  },
  {
   "cell_type": "code",
   "execution_count": 6,
   "metadata": {},
   "outputs": [
    {
     "name": "stdout",
     "output_type": "stream",
     "text": [
      "Palmeiras\n",
      "(Palmeiras, Libertadores, Boca Juniors)\n",
      "O True\n"
     ]
    }
   ],
   "source": [
    "print(doc[1])\n",
    "print(doc.ents)\n",
    "print(doc[0], doc[0].is_stop)"
   ]
  },
  {
   "cell_type": "code",
   "execution_count": 7,
   "metadata": {},
   "outputs": [],
   "source": [
    "textos_para_tratamento = (titulos.lower() for titulos in dados_treino[\"title\"])"
   ]
  },
  {
   "cell_type": "code",
   "execution_count": 8,
   "metadata": {},
   "outputs": [],
   "source": [
    "def trata_textos(doc):\n",
    "    tokens_validos = []\n",
    "    for token in doc:\n",
    "        eh_valido = not token.is_stop and token.is_alpha\n",
    "        if eh_valido:\n",
    "            tokens_validos.append(token.text)\n",
    "    \n",
    "    if len(tokens_validos) > 2:\n",
    "        return \" \".join(tokens_validos)"
   ]
  },
  {
   "cell_type": "code",
   "execution_count": 9,
   "metadata": {},
   "outputs": [
    {
     "data": {
      "text/plain": [
       "'Palmeiras perdeu semi Libertadores Boca Juniors empate'"
      ]
     },
     "execution_count": 9,
     "metadata": {},
     "output_type": "execute_result"
    }
   ],
   "source": [
    "trata_textos(doc)"
   ]
  },
  {
   "cell_type": "code",
   "execution_count": 10,
   "metadata": {},
   "outputs": [
    {
     "name": "stdout",
     "output_type": "stream",
     "text": [
      "Tempo de processamento: 191.81 seg.\n"
     ]
    }
   ],
   "source": [
    "t0 = time()\n",
    "textos_tratados = [trata_textos(doc) for doc in nlp.pipe(textos_para_tratamento, batch_size=1000, n_process=-1)]\n",
    "t1 = time()\n",
    "print(f\"Tempo de processamento: {(t1-t0):.2f} seg.\")\n"
   ]
  },
  {
   "cell_type": "code",
   "execution_count": 11,
   "metadata": {},
   "outputs": [
    {
     "data": {
      "text/html": [
       "<div>\n",
       "<style scoped>\n",
       "    .dataframe tbody tr th:only-of-type {\n",
       "        vertical-align: middle;\n",
       "    }\n",
       "\n",
       "    .dataframe tbody tr th {\n",
       "        vertical-align: top;\n",
       "    }\n",
       "\n",
       "    .dataframe thead th {\n",
       "        text-align: right;\n",
       "    }\n",
       "</style>\n",
       "<table border=\"1\" class=\"dataframe\">\n",
       "  <thead>\n",
       "    <tr style=\"text-align: right;\">\n",
       "      <th></th>\n",
       "      <th>titulo</th>\n",
       "    </tr>\n",
       "  </thead>\n",
       "  <tbody>\n",
       "    <tr>\n",
       "      <th>23473</th>\n",
       "      <td>saída crise econômica legitimar governo temer ...</td>\n",
       "    </tr>\n",
       "    <tr>\n",
       "      <th>54510</th>\n",
       "      <td>fluminense palmeirenses passarão vestibular</td>\n",
       "    </tr>\n",
       "    <tr>\n",
       "      <th>25246</th>\n",
       "      <td>al qaeda pede ataques ocidente seguidores</td>\n",
       "    </tr>\n",
       "    <tr>\n",
       "      <th>84565</th>\n",
       "      <td>atraso pagamento direitos empregados demitirem...</td>\n",
       "    </tr>\n",
       "  </tbody>\n",
       "</table>\n",
       "</div>"
      ],
      "text/plain": [
       "                                                  titulo\n",
       "23473  saída crise econômica legitimar governo temer ...\n",
       "54510        fluminense palmeirenses passarão vestibular\n",
       "25246          al qaeda pede ataques ocidente seguidores\n",
       "84565  atraso pagamento direitos empregados demitirem..."
      ]
     },
     "execution_count": 11,
     "metadata": {},
     "output_type": "execute_result"
    }
   ],
   "source": [
    "titulos_tratados = pd.DataFrame({\"titulo\": textos_tratados})\n",
    "titulos_tratados.sample(4)"
   ]
  },
  {
   "cell_type": "code",
   "execution_count": 12,
   "metadata": {},
   "outputs": [
    {
     "data": {
      "text/plain": [
       "<gensim.models.word2vec.Word2Vec at 0x2ae90532a90>"
      ]
     },
     "execution_count": 12,
     "metadata": {},
     "output_type": "execute_result"
    }
   ],
   "source": [
    "w2v_modelo = Word2Vec(sg=0, window=2, vector_size=300, min_count=5, alpha=0.03, min_alpha=0.007)\n",
    "w2v_modelo"
   ]
  },
  {
   "cell_type": "code",
   "execution_count": 13,
   "metadata": {},
   "outputs": [
    {
     "name": "stdout",
     "output_type": "stream",
     "text": [
      "90000\n",
      "84466\n"
     ]
    }
   ],
   "source": [
    "print(len(titulos_tratados))\n",
    "titulos_tratados = titulos_tratados.dropna().drop_duplicates()\n",
    "print(len(titulos_tratados))\n"
   ]
  },
  {
   "cell_type": "code",
   "execution_count": 14,
   "metadata": {},
   "outputs": [],
   "source": [
    "lista_lista_tokens = [titulo.split(\" \") for titulo in titulos_tratados.titulo]"
   ]
  },
  {
   "cell_type": "code",
   "execution_count": 18,
   "metadata": {},
   "outputs": [
    {
     "name": "stderr",
     "output_type": "stream",
     "text": [
      "2023-10-24 18:52:13,489 : Word2Vec lifecycle event {'params': 'Word2Vec<vocab=0, vector_size=300, alpha=0.03>', 'datetime': '2023-10-24T18:52:13.488480', 'gensim': '4.3.2', 'python': '3.11.4 (tags/v3.11.4:d2340ef, Jun  7 2023, 05:45:37) [MSC v.1934 64 bit (AMD64)]', 'platform': 'Windows-10-10.0.19045-SP0', 'event': 'created'}\n",
      "2023-10-24 18:52:13,491 : collecting all words and their counts\n",
      "2023-10-24 18:52:13,493 : PROGRESS: at sentence #0, processed 0 words, keeping 0 word types\n",
      "2023-10-24 18:52:13,512 : PROGRESS: at sentence #5000, processed 31930 words, keeping 10193 word types\n",
      "2023-10-24 18:52:13,530 : PROGRESS: at sentence #10000, processed 63848 words, keeping 14989 word types\n",
      "2023-10-24 18:52:13,550 : PROGRESS: at sentence #15000, processed 95753 words, keeping 18279 word types\n",
      "2023-10-24 18:52:13,578 : PROGRESS: at sentence #20000, processed 127689 words, keeping 21033 word types\n",
      "2023-10-24 18:52:13,632 : PROGRESS: at sentence #25000, processed 159589 words, keeping 23491 word types\n",
      "2023-10-24 18:52:13,650 : PROGRESS: at sentence #30000, processed 191554 words, keeping 25494 word types\n",
      "2023-10-24 18:52:13,666 : PROGRESS: at sentence #35000, processed 223412 words, keeping 27330 word types\n",
      "2023-10-24 18:52:13,683 : PROGRESS: at sentence #40000, processed 255282 words, keeping 29053 word types\n",
      "2023-10-24 18:52:13,711 : PROGRESS: at sentence #45000, processed 287297 words, keeping 30606 word types\n",
      "2023-10-24 18:52:13,730 : PROGRESS: at sentence #50000, processed 319258 words, keeping 31964 word types\n",
      "2023-10-24 18:52:13,751 : PROGRESS: at sentence #55000, processed 351437 words, keeping 33270 word types\n",
      "2023-10-24 18:52:13,776 : PROGRESS: at sentence #60000, processed 383579 words, keeping 34520 word types\n",
      "2023-10-24 18:52:13,799 : PROGRESS: at sentence #65000, processed 415565 words, keeping 35643 word types\n",
      "2023-10-24 18:52:13,823 : PROGRESS: at sentence #70000, processed 447646 words, keeping 36719 word types\n",
      "2023-10-24 18:52:13,850 : PROGRESS: at sentence #75000, processed 479568 words, keeping 37802 word types\n",
      "2023-10-24 18:52:13,877 : PROGRESS: at sentence #80000, processed 511645 words, keeping 38814 word types\n",
      "2023-10-24 18:52:13,899 : collected 39693 word types from a corpus of 540242 raw words and 84466 sentences\n",
      "2023-10-24 18:52:13,901 : Creating a fresh vocabulary\n",
      "2023-10-24 18:52:14,009 : Word2Vec lifecycle event {'msg': 'effective_min_count=5 retains 12924 unique words (32.56% of original 39693, drops 26769)', 'datetime': '2023-10-24T18:52:14.009155', 'gensim': '4.3.2', 'python': '3.11.4 (tags/v3.11.4:d2340ef, Jun  7 2023, 05:45:37) [MSC v.1934 64 bit (AMD64)]', 'platform': 'Windows-10-10.0.19045-SP0', 'event': 'prepare_vocab'}\n",
      "2023-10-24 18:52:14,011 : Word2Vec lifecycle event {'msg': 'effective_min_count=5 leaves 495223 word corpus (91.67% of original 540242, drops 45019)', 'datetime': '2023-10-24T18:52:14.011153', 'gensim': '4.3.2', 'python': '3.11.4 (tags/v3.11.4:d2340ef, Jun  7 2023, 05:45:37) [MSC v.1934 64 bit (AMD64)]', 'platform': 'Windows-10-10.0.19045-SP0', 'event': 'prepare_vocab'}\n",
      "2023-10-24 18:52:14,179 : deleting the raw counts dictionary of 39693 items\n",
      "2023-10-24 18:52:14,181 : sample=0.001 downsamples 8 most-common words\n",
      "2023-10-24 18:52:14,182 : Word2Vec lifecycle event {'msg': 'downsampling leaves estimated 486147.7552334345 word corpus (98.2%% of prior 495223)', 'datetime': '2023-10-24T18:52:14.182048', 'gensim': '4.3.2', 'python': '3.11.4 (tags/v3.11.4:d2340ef, Jun  7 2023, 05:45:37) [MSC v.1934 64 bit (AMD64)]', 'platform': 'Windows-10-10.0.19045-SP0', 'event': 'prepare_vocab'}\n",
      "2023-10-24 18:52:14,422 : estimated required memory for 12924 words and 300 dimensions: 37479600 bytes\n",
      "2023-10-24 18:52:14,424 : resetting layer weights\n",
      "2023-10-24 18:52:14,452 : Word2Vec lifecycle event {'update': False, 'trim_rule': 'None', 'datetime': '2023-10-24T18:52:14.451882', 'gensim': '4.3.2', 'python': '3.11.4 (tags/v3.11.4:d2340ef, Jun  7 2023, 05:45:37) [MSC v.1934 64 bit (AMD64)]', 'platform': 'Windows-10-10.0.19045-SP0', 'event': 'build_vocab'}\n"
     ]
    }
   ],
   "source": [
    "logging.basicConfig(format=\"%(asctime)s : %(message)s\", level=logging.INFO)\n",
    "w2v_modelo = Word2Vec(sg=0, window=2, vector_size=300, min_count=5, alpha=0.03, min_alpha=0.007)\n",
    "w2v_modelo.build_vocab(lista_lista_tokens, progress_per=5000)"
   ]
  },
  {
   "cell_type": "code",
   "execution_count": 21,
   "metadata": {},
   "outputs": [
    {
     "data": {
      "text/plain": [
       "84466"
      ]
     },
     "execution_count": 21,
     "metadata": {},
     "output_type": "execute_result"
    }
   ],
   "source": [
    "w2v_modelo.corpus_count"
   ]
  },
  {
   "cell_type": "code",
   "execution_count": 23,
   "metadata": {},
   "outputs": [
    {
     "name": "stderr",
     "output_type": "stream",
     "text": [
      "2023-10-24 19:09:17,189 : Word2Vec lifecycle event {'msg': 'training model with 3 workers on 12924 vocabulary and 300 features, using sg=0 hs=0 sample=0.001 negative=5 window=2 shrink_windows=True', 'datetime': '2023-10-24T19:09:17.189094', 'gensim': '4.3.2', 'python': '3.11.4 (tags/v3.11.4:d2340ef, Jun  7 2023, 05:45:37) [MSC v.1934 64 bit (AMD64)]', 'platform': 'Windows-10-10.0.19045-SP0', 'event': 'train'}\n",
      "2023-10-24 19:09:17,981 : EPOCH 0: training on 540242 raw words (485990 effective words) took 0.8s, 629636 effective words/s\n",
      "2023-10-24 19:09:18,703 : EPOCH 1: training on 540242 raw words (486083 effective words) took 0.7s, 684860 effective words/s\n",
      "2023-10-24 19:09:19,424 : EPOCH 2: training on 540242 raw words (486122 effective words) took 0.7s, 685834 effective words/s\n",
      "2023-10-24 19:09:20,151 : EPOCH 3: training on 540242 raw words (486184 effective words) took 0.7s, 681328 effective words/s\n",
      "2023-10-24 19:09:20,857 : EPOCH 4: training on 540242 raw words (486023 effective words) took 0.7s, 705885 effective words/s\n",
      "2023-10-24 19:09:21,631 : EPOCH 5: training on 540242 raw words (486205 effective words) took 0.8s, 641885 effective words/s\n",
      "2023-10-24 19:09:22,319 : EPOCH 6: training on 540242 raw words (486252 effective words) took 0.7s, 722251 effective words/s\n",
      "2023-10-24 19:09:23,100 : EPOCH 7: training on 540242 raw words (486140 effective words) took 0.8s, 634740 effective words/s\n",
      "2023-10-24 19:09:24,117 : EPOCH 8 - PROGRESS: at 96.23% examples, 467044 words/s, in_qsize 3, out_qsize 0\n",
      "2023-10-24 19:09:24,161 : EPOCH 8: training on 540242 raw words (486069 effective words) took 1.0s, 464857 effective words/s\n",
      "2023-10-24 19:09:25,186 : EPOCH 9 - PROGRESS: at 85.15% examples, 409715 words/s, in_qsize 6, out_qsize 0\n",
      "2023-10-24 19:09:25,407 : EPOCH 9: training on 540242 raw words (486104 effective words) took 1.2s, 395101 effective words/s\n",
      "2023-10-24 19:09:26,445 : EPOCH 10 - PROGRESS: at 72.19% examples, 345565 words/s, in_qsize 6, out_qsize 0\n",
      "2023-10-24 19:09:26,786 : EPOCH 10: training on 540242 raw words (486189 effective words) took 1.4s, 358578 effective words/s\n",
      "2023-10-24 19:09:27,826 : EPOCH 11 - PROGRESS: at 92.52% examples, 446160 words/s, in_qsize 5, out_qsize 0\n",
      "2023-10-24 19:09:27,913 : EPOCH 11: training on 540242 raw words (486001 effective words) took 1.1s, 443858 effective words/s\n",
      "2023-10-24 19:09:28,900 : EPOCH 12: training on 540242 raw words (486032 effective words) took 1.0s, 506268 effective words/s\n",
      "2023-10-24 19:09:29,834 : EPOCH 13: training on 540242 raw words (486146 effective words) took 0.9s, 528908 effective words/s\n",
      "2023-10-24 19:09:30,785 : EPOCH 14: training on 540242 raw words (486223 effective words) took 0.9s, 519189 effective words/s\n",
      "2023-10-24 19:09:31,719 : EPOCH 15: training on 540242 raw words (486035 effective words) took 0.9s, 526743 effective words/s\n",
      "2023-10-24 19:09:32,611 : EPOCH 16: training on 540242 raw words (485973 effective words) took 0.9s, 553200 effective words/s\n",
      "2023-10-24 19:09:33,480 : EPOCH 17: training on 540242 raw words (486001 effective words) took 0.9s, 569834 effective words/s\n",
      "2023-10-24 19:09:34,498 : EPOCH 18 - PROGRESS: at 98.14% examples, 473743 words/s, in_qsize 1, out_qsize 1\n",
      "2023-10-24 19:09:34,510 : EPOCH 18: training on 540242 raw words (486248 effective words) took 1.0s, 476715 effective words/s\n",
      "2023-10-24 19:09:35,487 : EPOCH 19: training on 540242 raw words (486136 effective words) took 1.0s, 509767 effective words/s\n",
      "2023-10-24 19:09:36,436 : EPOCH 20: training on 540242 raw words (486232 effective words) took 0.9s, 518957 effective words/s\n",
      "2023-10-24 19:09:37,345 : EPOCH 21: training on 540242 raw words (486144 effective words) took 0.9s, 551182 effective words/s\n",
      "2023-10-24 19:09:38,259 : EPOCH 22: training on 540242 raw words (486051 effective words) took 0.9s, 539192 effective words/s\n",
      "2023-10-24 19:09:39,147 : EPOCH 23: training on 540242 raw words (486096 effective words) took 0.9s, 555030 effective words/s\n",
      "2023-10-24 19:09:40,147 : EPOCH 24: training on 540242 raw words (486110 effective words) took 1.0s, 493097 effective words/s\n",
      "2023-10-24 19:09:41,142 : EPOCH 25: training on 540242 raw words (486036 effective words) took 1.0s, 496222 effective words/s\n",
      "2023-10-24 19:09:42,159 : EPOCH 26 - PROGRESS: at 94.38% examples, 456373 words/s, in_qsize 4, out_qsize 0\n",
      "2023-10-24 19:09:42,205 : EPOCH 26: training on 540242 raw words (486148 effective words) took 1.1s, 462200 effective words/s\n",
      "2023-10-24 19:09:43,126 : EPOCH 27: training on 540242 raw words (486202 effective words) took 0.9s, 538390 effective words/s\n",
      "2023-10-24 19:09:43,970 : EPOCH 28: training on 540242 raw words (486183 effective words) took 0.8s, 586425 effective words/s\n",
      "2023-10-24 19:09:44,838 : EPOCH 29: training on 540242 raw words (486263 effective words) took 0.9s, 568487 effective words/s\n",
      "2023-10-24 19:09:44,839 : Word2Vec lifecycle event {'msg': 'training on 16207260 raw words (14583621 effective words) took 27.6s, 527463 effective words/s', 'datetime': '2023-10-24T19:09:44.839634', 'gensim': '4.3.2', 'python': '3.11.4 (tags/v3.11.4:d2340ef, Jun  7 2023, 05:45:37) [MSC v.1934 64 bit (AMD64)]', 'platform': 'Windows-10-10.0.19045-SP0', 'event': 'train'}\n"
     ]
    },
    {
     "data": {
      "text/plain": [
       "(14583621, 16207260)"
      ]
     },
     "execution_count": 23,
     "metadata": {},
     "output_type": "execute_result"
    }
   ],
   "source": [
    "w2v_modelo.train(lista_lista_tokens, total_examples=w2v_modelo.corpus_count, epochs=30)"
   ]
  },
  {
   "cell_type": "code",
   "execution_count": 25,
   "metadata": {},
   "outputs": [
    {
     "data": {
      "text/plain": [
       "[('unilever', 0.5733203291893005),\n",
       " ('tesla', 0.5593856573104858),\n",
       " ('amazon', 0.5572776794433594),\n",
       " ('viajante', 0.5125274658203125),\n",
       " ('sony', 0.5109540224075317),\n",
       " ('linkedin', 0.5102859735488892),\n",
       " ('sky', 0.5081335306167603),\n",
       " ('spotify', 0.5013250708580017),\n",
       " ('blue', 0.4991951584815979),\n",
       " ('braskem', 0.4931843876838684)]"
      ]
     },
     "execution_count": 25,
     "metadata": {},
     "output_type": "execute_result"
    }
   ],
   "source": [
    "w2v_modelo.wv.most_similar(\"microsoft\")"
   ]
  },
  {
   "cell_type": "code",
   "execution_count": 24,
   "metadata": {},
   "outputs": [
    {
     "data": {
      "text/plain": [
       "[('apple', 0.5866417288780212),\n",
       " ('facebook', 0.5465093851089478),\n",
       " ('amazon', 0.4762831926345825),\n",
       " ('waze', 0.4555312991142273),\n",
       " ('airbnb', 0.44368472695350647),\n",
       " ('fbi', 0.4382781386375427),\n",
       " ('software', 0.4335442781448364),\n",
       " ('yahoo', 0.4327748715877533),\n",
       " ('news', 0.42736244201660156),\n",
       " ('uber', 0.426719605922699)]"
      ]
     },
     "execution_count": 24,
     "metadata": {},
     "output_type": "execute_result"
    }
   ],
   "source": [
    "w2v_modelo.wv.most_similar(\"google\")"
   ]
  },
  {
   "cell_type": "code",
   "execution_count": 26,
   "metadata": {},
   "outputs": [
    {
     "data": {
      "text/plain": [
       "[('barça', 0.6106361746788025),\n",
       " ('madrid', 0.5756472945213318),\n",
       " ('bayern', 0.5631275773048401),\n",
       " ('psg', 0.5363635420799255),\n",
       " ('united', 0.5330449938774109),\n",
       " ('munique', 0.5267422199249268),\n",
       " ('juventus', 0.5228532552719116),\n",
       " ('chelsea', 0.5081841349601746),\n",
       " ('suárez', 0.5022984743118286),\n",
       " ('figueirense', 0.5012516975402832)]"
      ]
     },
     "execution_count": 26,
     "metadata": {},
     "output_type": "execute_result"
    }
   ],
   "source": [
    "w2v_modelo.wv.most_similar(\"barcelona\")"
   ]
  },
  {
   "cell_type": "code",
   "execution_count": 27,
   "metadata": {},
   "outputs": [
    {
     "data": {
      "text/plain": [
       "[('suárez', 0.5849438905715942),\n",
       " ('cristiano', 0.5306991934776306),\n",
       " ('barça', 0.5115934014320374),\n",
       " ('ronaldo', 0.5081584453582764),\n",
       " ('tevez', 0.5007955431938171),\n",
       " ('cavani', 0.4860115051269531),\n",
       " ('enrique', 0.48485511541366577),\n",
       " ('psg', 0.48254117369651794),\n",
       " ('neymar', 0.48040562868118286),\n",
       " ('chuteiras', 0.4794771373271942)]"
      ]
     },
     "execution_count": 27,
     "metadata": {},
     "output_type": "execute_result"
    }
   ],
   "source": [
    "w2v_modelo.wv.most_similar(\"messi\")"
   ]
  },
  {
   "cell_type": "code",
   "execution_count": 28,
   "metadata": {},
   "outputs": [
    {
     "data": {
      "text/plain": [
       "[('volks', 0.6660826802253723),\n",
       " ('embraer', 0.6503634452819824),\n",
       " ('chrysler', 0.6422983407974243),\n",
       " ('honda', 0.6135537624359131),\n",
       " ('tesla', 0.6121627688407898),\n",
       " ('fiat', 0.6078920960426331),\n",
       " ('braskem', 0.5994606018066406),\n",
       " ('renault', 0.5979273915290833),\n",
       " ('toyota', 0.5936806201934814),\n",
       " ('volkswagen', 0.5867471694946289)]"
      ]
     },
     "execution_count": 28,
     "metadata": {},
     "output_type": "execute_result"
    }
   ],
   "source": [
    "w2v_modelo.wv.most_similar(\"gm\")"
   ]
  },
  {
   "cell_type": "code",
   "execution_count": 29,
   "metadata": {},
   "outputs": [
    {
     "name": "stderr",
     "output_type": "stream",
     "text": [
      "2023-10-24 19:17:17,509 : Word2Vec lifecycle event {'params': 'Word2Vec<vocab=0, vector_size=300, alpha=0.03>', 'datetime': '2023-10-24T19:17:17.509807', 'gensim': '4.3.2', 'python': '3.11.4 (tags/v3.11.4:d2340ef, Jun  7 2023, 05:45:37) [MSC v.1934 64 bit (AMD64)]', 'platform': 'Windows-10-10.0.19045-SP0', 'event': 'created'}\n",
      "2023-10-24 19:17:17,511 : collecting all words and their counts\n",
      "2023-10-24 19:17:17,513 : PROGRESS: at sentence #0, processed 0 words, keeping 0 word types\n",
      "2023-10-24 19:17:17,536 : PROGRESS: at sentence #5000, processed 31930 words, keeping 10193 word types\n",
      "2023-10-24 19:17:17,566 : PROGRESS: at sentence #10000, processed 63848 words, keeping 14989 word types\n",
      "2023-10-24 19:17:17,594 : PROGRESS: at sentence #15000, processed 95753 words, keeping 18279 word types\n",
      "2023-10-24 19:17:17,618 : PROGRESS: at sentence #20000, processed 127689 words, keeping 21033 word types\n",
      "2023-10-24 19:17:17,638 : PROGRESS: at sentence #25000, processed 159589 words, keeping 23491 word types\n",
      "2023-10-24 19:17:17,658 : PROGRESS: at sentence #30000, processed 191554 words, keeping 25494 word types\n",
      "2023-10-24 19:17:17,675 : PROGRESS: at sentence #35000, processed 223412 words, keeping 27330 word types\n",
      "2023-10-24 19:17:17,693 : PROGRESS: at sentence #40000, processed 255282 words, keeping 29053 word types\n",
      "2023-10-24 19:17:17,721 : PROGRESS: at sentence #45000, processed 287297 words, keeping 30606 word types\n",
      "2023-10-24 19:17:17,744 : PROGRESS: at sentence #50000, processed 319258 words, keeping 31964 word types\n",
      "2023-10-24 19:17:17,774 : PROGRESS: at sentence #55000, processed 351437 words, keeping 33270 word types\n",
      "2023-10-24 19:17:17,798 : PROGRESS: at sentence #60000, processed 383579 words, keeping 34520 word types\n",
      "2023-10-24 19:17:17,839 : PROGRESS: at sentence #65000, processed 415565 words, keeping 35643 word types\n",
      "2023-10-24 19:17:17,862 : PROGRESS: at sentence #70000, processed 447646 words, keeping 36719 word types\n",
      "2023-10-24 19:17:17,892 : PROGRESS: at sentence #75000, processed 479568 words, keeping 37802 word types\n",
      "2023-10-24 19:17:17,918 : PROGRESS: at sentence #80000, processed 511645 words, keeping 38814 word types\n",
      "2023-10-24 19:17:17,945 : collected 39693 word types from a corpus of 540242 raw words and 84466 sentences\n",
      "2023-10-24 19:17:17,946 : Creating a fresh vocabulary\n",
      "2023-10-24 19:17:18,062 : Word2Vec lifecycle event {'msg': 'effective_min_count=5 retains 12924 unique words (32.56% of original 39693, drops 26769)', 'datetime': '2023-10-24T19:17:18.062464', 'gensim': '4.3.2', 'python': '3.11.4 (tags/v3.11.4:d2340ef, Jun  7 2023, 05:45:37) [MSC v.1934 64 bit (AMD64)]', 'platform': 'Windows-10-10.0.19045-SP0', 'event': 'prepare_vocab'}\n",
      "2023-10-24 19:17:18,063 : Word2Vec lifecycle event {'msg': 'effective_min_count=5 leaves 495223 word corpus (91.67% of original 540242, drops 45019)', 'datetime': '2023-10-24T19:17:18.063466', 'gensim': '4.3.2', 'python': '3.11.4 (tags/v3.11.4:d2340ef, Jun  7 2023, 05:45:37) [MSC v.1934 64 bit (AMD64)]', 'platform': 'Windows-10-10.0.19045-SP0', 'event': 'prepare_vocab'}\n",
      "2023-10-24 19:17:18,223 : deleting the raw counts dictionary of 39693 items\n",
      "2023-10-24 19:17:18,225 : sample=0.001 downsamples 8 most-common words\n",
      "2023-10-24 19:17:18,226 : Word2Vec lifecycle event {'msg': 'downsampling leaves estimated 486147.7552334345 word corpus (98.2%% of prior 495223)', 'datetime': '2023-10-24T19:17:18.226363', 'gensim': '4.3.2', 'python': '3.11.4 (tags/v3.11.4:d2340ef, Jun  7 2023, 05:45:37) [MSC v.1934 64 bit (AMD64)]', 'platform': 'Windows-10-10.0.19045-SP0', 'event': 'prepare_vocab'}\n",
      "2023-10-24 19:17:18,443 : estimated required memory for 12924 words and 300 dimensions: 37479600 bytes\n",
      "2023-10-24 19:17:18,444 : resetting layer weights\n",
      "2023-10-24 19:17:18,471 : Word2Vec lifecycle event {'update': False, 'trim_rule': 'None', 'datetime': '2023-10-24T19:17:18.471214', 'gensim': '4.3.2', 'python': '3.11.4 (tags/v3.11.4:d2340ef, Jun  7 2023, 05:45:37) [MSC v.1934 64 bit (AMD64)]', 'platform': 'Windows-10-10.0.19045-SP0', 'event': 'build_vocab'}\n",
      "2023-10-24 19:17:18,472 : Word2Vec lifecycle event {'msg': 'training model with 3 workers on 12924 vocabulary and 300 features, using sg=1 hs=0 sample=0.001 negative=5 window=5 shrink_windows=True', 'datetime': '2023-10-24T19:17:18.472212', 'gensim': '4.3.2', 'python': '3.11.4 (tags/v3.11.4:d2340ef, Jun  7 2023, 05:45:37) [MSC v.1934 64 bit (AMD64)]', 'platform': 'Windows-10-10.0.19045-SP0', 'event': 'train'}\n",
      "2023-10-24 19:17:19,515 : EPOCH 0 - PROGRESS: at 44.50% examples, 210214 words/s, in_qsize 5, out_qsize 0\n",
      "2023-10-24 19:17:20,524 : EPOCH 0 - PROGRESS: at 88.85% examples, 212108 words/s, in_qsize 5, out_qsize 0\n",
      "2023-10-24 19:17:20,752 : EPOCH 0: training on 540242 raw words (486058 effective words) took 2.3s, 214783 effective words/s\n",
      "2023-10-24 19:17:21,774 : EPOCH 1 - PROGRESS: at 42.66% examples, 205285 words/s, in_qsize 5, out_qsize 0\n",
      "2023-10-24 19:17:22,785 : EPOCH 1 - PROGRESS: at 88.85% examples, 213856 words/s, in_qsize 5, out_qsize 0\n",
      "2023-10-24 19:17:23,018 : EPOCH 1: training on 540242 raw words (486094 effective words) took 2.3s, 215802 effective words/s\n",
      "2023-10-24 19:17:24,103 : EPOCH 2 - PROGRESS: at 40.79% examples, 185086 words/s, in_qsize 5, out_qsize 0\n",
      "2023-10-24 19:17:25,135 : EPOCH 2 - PROGRESS: at 87.00% examples, 201131 words/s, in_qsize 5, out_qsize 0\n",
      "2023-10-24 19:17:25,418 : EPOCH 2: training on 540242 raw words (486309 effective words) took 2.4s, 203866 effective words/s\n",
      "2023-10-24 19:17:26,460 : EPOCH 3 - PROGRESS: at 40.79% examples, 194913 words/s, in_qsize 5, out_qsize 0\n",
      "2023-10-24 19:17:27,460 : EPOCH 3 - PROGRESS: at 85.15% examples, 205252 words/s, in_qsize 5, out_qsize 0\n",
      "2023-10-24 19:17:27,751 : EPOCH 3: training on 540242 raw words (486118 effective words) took 2.3s, 210746 effective words/s\n",
      "2023-10-24 19:17:28,806 : EPOCH 4 - PROGRESS: at 40.79% examples, 190121 words/s, in_qsize 5, out_qsize 0\n",
      "2023-10-24 19:17:29,889 : EPOCH 4 - PROGRESS: at 87.00% examples, 199097 words/s, in_qsize 5, out_qsize 0\n",
      "2023-10-24 19:17:30,122 : EPOCH 4: training on 540242 raw words (486107 effective words) took 2.4s, 206235 effective words/s\n",
      "2023-10-24 19:17:31,142 : EPOCH 5 - PROGRESS: at 44.50% examples, 214511 words/s, in_qsize 5, out_qsize 0\n",
      "2023-10-24 19:17:32,159 : EPOCH 5 - PROGRESS: at 88.85% examples, 213376 words/s, in_qsize 6, out_qsize 0\n",
      "2023-10-24 19:17:32,384 : EPOCH 5: training on 540242 raw words (486199 effective words) took 2.2s, 216221 effective words/s\n",
      "2023-10-24 19:17:33,439 : EPOCH 6 - PROGRESS: at 40.79% examples, 189987 words/s, in_qsize 5, out_qsize 0\n",
      "2023-10-24 19:17:34,475 : EPOCH 6 - PROGRESS: at 83.29% examples, 194751 words/s, in_qsize 5, out_qsize 0\n",
      "2023-10-24 19:17:34,905 : EPOCH 6: training on 540242 raw words (486197 effective words) took 2.5s, 193832 effective words/s\n",
      "2023-10-24 19:17:35,934 : EPOCH 7 - PROGRESS: at 38.94% examples, 188921 words/s, in_qsize 6, out_qsize 0\n",
      "2023-10-24 19:17:36,951 : EPOCH 7 - PROGRESS: at 74.06% examples, 178403 words/s, in_qsize 6, out_qsize 0\n",
      "2023-10-24 19:17:37,539 : EPOCH 7: training on 540242 raw words (486140 effective words) took 2.6s, 186612 effective words/s\n",
      "2023-10-24 19:17:38,611 : EPOCH 8 - PROGRESS: at 40.79% examples, 186821 words/s, in_qsize 5, out_qsize 0\n",
      "2023-10-24 19:17:39,661 : EPOCH 8 - PROGRESS: at 88.85% examples, 204674 words/s, in_qsize 6, out_qsize 0\n",
      "2023-10-24 19:17:39,879 : EPOCH 8: training on 540242 raw words (486211 effective words) took 2.3s, 208870 effective words/s\n",
      "2023-10-24 19:17:40,920 : EPOCH 9 - PROGRESS: at 42.66% examples, 201595 words/s, in_qsize 6, out_qsize 0\n",
      "2023-10-24 19:17:41,956 : EPOCH 9 - PROGRESS: at 87.00% examples, 204887 words/s, in_qsize 5, out_qsize 0\n",
      "2023-10-24 19:17:42,277 : EPOCH 9: training on 540242 raw words (486229 effective words) took 2.4s, 203923 effective words/s\n",
      "2023-10-24 19:17:43,321 : EPOCH 10 - PROGRESS: at 44.50% examples, 209950 words/s, in_qsize 6, out_qsize 0\n",
      "2023-10-24 19:17:44,331 : EPOCH 10 - PROGRESS: at 88.85% examples, 211823 words/s, in_qsize 5, out_qsize 0\n",
      "2023-10-24 19:17:44,561 : EPOCH 10: training on 540242 raw words (486096 effective words) took 2.3s, 214330 effective words/s\n",
      "2023-10-24 19:17:45,599 : EPOCH 11 - PROGRESS: at 44.50% examples, 210923 words/s, in_qsize 5, out_qsize 0\n",
      "2023-10-24 19:17:46,600 : EPOCH 11 - PROGRESS: at 90.67% examples, 217691 words/s, in_qsize 6, out_qsize 0\n",
      "2023-10-24 19:17:46,789 : EPOCH 11: training on 540242 raw words (486136 effective words) took 2.2s, 219516 effective words/s\n",
      "2023-10-24 19:17:47,827 : EPOCH 12 - PROGRESS: at 44.50% examples, 210791 words/s, in_qsize 6, out_qsize 0\n",
      "2023-10-24 19:17:48,848 : EPOCH 12 - PROGRESS: at 88.85% examples, 211130 words/s, in_qsize 5, out_qsize 0\n",
      "2023-10-24 19:17:49,086 : EPOCH 12: training on 540242 raw words (486124 effective words) took 2.3s, 212902 effective words/s\n",
      "2023-10-24 19:17:50,122 : EPOCH 13 - PROGRESS: at 44.50% examples, 211616 words/s, in_qsize 5, out_qsize 0\n",
      "2023-10-24 19:17:51,156 : EPOCH 13 - PROGRESS: at 92.52% examples, 218849 words/s, in_qsize 5, out_qsize 0\n",
      "2023-10-24 19:17:51,310 : EPOCH 13: training on 540242 raw words (486144 effective words) took 2.2s, 220021 effective words/s\n",
      "2023-10-24 19:17:52,333 : EPOCH 14 - PROGRESS: at 42.66% examples, 205545 words/s, in_qsize 4, out_qsize 1\n",
      "2023-10-24 19:17:53,399 : EPOCH 14 - PROGRESS: at 92.52% examples, 216938 words/s, in_qsize 5, out_qsize 0\n",
      "2023-10-24 19:17:53,546 : EPOCH 14: training on 540242 raw words (486150 effective words) took 2.2s, 218952 effective words/s\n",
      "2023-10-24 19:17:54,584 : EPOCH 15 - PROGRESS: at 42.66% examples, 204490 words/s, in_qsize 6, out_qsize 0\n",
      "2023-10-24 19:17:55,613 : EPOCH 15 - PROGRESS: at 81.45% examples, 193885 words/s, in_qsize 5, out_qsize 0\n",
      "2023-10-24 19:17:55,980 : EPOCH 15: training on 540242 raw words (486043 effective words) took 2.4s, 201793 effective words/s\n",
      "2023-10-24 19:17:57,081 : EPOCH 16 - PROGRESS: at 46.35% examples, 207417 words/s, in_qsize 5, out_qsize 0\n",
      "2023-10-24 19:17:58,089 : EPOCH 16 - PROGRESS: at 92.52% examples, 214950 words/s, in_qsize 5, out_qsize 0\n",
      "2023-10-24 19:17:58,230 : EPOCH 16: training on 540242 raw words (486303 effective words) took 2.2s, 217687 effective words/s\n",
      "2023-10-24 19:17:59,304 : EPOCH 17 - PROGRESS: at 46.35% examples, 212370 words/s, in_qsize 5, out_qsize 0\n",
      "2023-10-24 19:18:00,342 : EPOCH 17 - PROGRESS: at 96.23% examples, 223035 words/s, in_qsize 3, out_qsize 0\n",
      "2023-10-24 19:18:00,420 : EPOCH 17: training on 540242 raw words (486062 effective words) took 2.2s, 223426 effective words/s\n",
      "2023-10-24 19:18:01,444 : EPOCH 18 - PROGRESS: at 44.50% examples, 214295 words/s, in_qsize 5, out_qsize 0\n",
      "2023-10-24 19:18:02,496 : EPOCH 18 - PROGRESS: at 92.52% examples, 218361 words/s, in_qsize 5, out_qsize 0\n",
      "2023-10-24 19:18:02,673 : EPOCH 18: training on 540242 raw words (486125 effective words) took 2.2s, 217341 effective words/s\n",
      "2023-10-24 19:18:03,760 : EPOCH 19 - PROGRESS: at 46.35% examples, 209709 words/s, in_qsize 5, out_qsize 0\n",
      "2023-10-24 19:18:04,761 : EPOCH 19 - PROGRESS: at 92.52% examples, 216936 words/s, in_qsize 5, out_qsize 0\n",
      "2023-10-24 19:18:04,892 : EPOCH 19: training on 540242 raw words (486130 effective words) took 2.2s, 220388 effective words/s\n",
      "2023-10-24 19:18:05,989 : EPOCH 20 - PROGRESS: at 46.36% examples, 207607 words/s, in_qsize 5, out_qsize 0\n",
      "2023-10-24 19:18:07,008 : EPOCH 20 - PROGRESS: at 96.23% examples, 222471 words/s, in_qsize 3, out_qsize 0\n",
      "2023-10-24 19:18:07,034 : EPOCH 20: training on 540242 raw words (486141 effective words) took 2.1s, 228347 effective words/s\n",
      "2023-10-24 19:18:08,108 : EPOCH 21 - PROGRESS: at 46.35% examples, 212641 words/s, in_qsize 5, out_qsize 0\n",
      "2023-10-24 19:18:09,145 : EPOCH 21 - PROGRESS: at 87.00% examples, 201761 words/s, in_qsize 5, out_qsize 0\n",
      "2023-10-24 19:18:09,410 : EPOCH 21: training on 540242 raw words (486092 effective words) took 2.4s, 205885 effective words/s\n",
      "2023-10-24 19:18:10,452 : EPOCH 22 - PROGRESS: at 44.50% examples, 209959 words/s, in_qsize 6, out_qsize 0\n",
      "2023-10-24 19:18:11,465 : EPOCH 22 - PROGRESS: at 90.67% examples, 215907 words/s, in_qsize 6, out_qsize 0\n",
      "2023-10-24 19:18:11,713 : EPOCH 22: training on 540242 raw words (486125 effective words) took 2.3s, 212320 effective words/s\n",
      "2023-10-24 19:18:12,738 : EPOCH 23 - PROGRESS: at 38.94% examples, 187449 words/s, in_qsize 6, out_qsize 0\n",
      "2023-10-24 19:18:13,784 : EPOCH 23 - PROGRESS: at 74.06% examples, 175130 words/s, in_qsize 4, out_qsize 1\n",
      "2023-10-24 19:18:14,368 : EPOCH 23: training on 540242 raw words (486143 effective words) took 2.6s, 184227 effective words/s\n",
      "2023-10-24 19:18:15,404 : EPOCH 24 - PROGRESS: at 35.22% examples, 167972 words/s, in_qsize 5, out_qsize 0\n",
      "2023-10-24 19:18:16,448 : EPOCH 24 - PROGRESS: at 77.75% examples, 183172 words/s, in_qsize 5, out_qsize 0\n",
      "2023-10-24 19:18:16,923 : EPOCH 24: training on 540242 raw words (486127 effective words) took 2.5s, 191572 effective words/s\n",
      "2023-10-24 19:18:18,117 : EPOCH 25 - PROGRESS: at 40.79% examples, 170188 words/s, in_qsize 5, out_qsize 0\n",
      "2023-10-24 19:18:19,130 : EPOCH 25 - PROGRESS: at 68.53% examples, 152864 words/s, in_qsize 5, out_qsize 0\n",
      "2023-10-24 19:18:19,974 : EPOCH 25: training on 540242 raw words (486109 effective words) took 3.0s, 160926 effective words/s\n",
      "2023-10-24 19:18:21,041 : EPOCH 26 - PROGRESS: at 29.66% examples, 138697 words/s, in_qsize 6, out_qsize 0\n",
      "2023-10-24 19:18:22,066 : EPOCH 26 - PROGRESS: at 61.16% examples, 143852 words/s, in_qsize 5, out_qsize 0\n",
      "2023-10-24 19:18:23,072 : EPOCH 26 - PROGRESS: at 94.38% examples, 149459 words/s, in_qsize 4, out_qsize 0\n",
      "2023-10-24 19:18:23,243 : EPOCH 26: training on 540242 raw words (486055 effective words) took 3.2s, 150005 effective words/s\n",
      "2023-10-24 19:18:24,308 : EPOCH 27 - PROGRESS: at 33.36% examples, 159603 words/s, in_qsize 5, out_qsize 0\n",
      "2023-10-24 19:18:25,343 : EPOCH 27 - PROGRESS: at 79.60% examples, 188662 words/s, in_qsize 6, out_qsize 0\n",
      "2023-10-24 19:18:25,714 : EPOCH 27: training on 540242 raw words (486091 effective words) took 2.4s, 200757 effective words/s\n",
      "2023-10-24 19:18:26,748 : EPOCH 28 - PROGRESS: at 31.50% examples, 150155 words/s, in_qsize 5, out_qsize 0\n",
      "2023-10-24 19:18:27,790 : EPOCH 28 - PROGRESS: at 68.53% examples, 161513 words/s, in_qsize 5, out_qsize 0\n",
      "2023-10-24 19:18:28,581 : EPOCH 28: training on 540242 raw words (486120 effective words) took 2.9s, 170426 effective words/s\n",
      "2023-10-24 19:18:29,677 : EPOCH 29 - PROGRESS: at 35.22% examples, 160164 words/s, in_qsize 6, out_qsize 0\n",
      "2023-10-24 19:18:30,829 : EPOCH 29 - PROGRESS: at 74.06% examples, 162087 words/s, in_qsize 6, out_qsize 0\n",
      "2023-10-24 19:18:31,534 : EPOCH 29: training on 540242 raw words (486004 effective words) took 2.9s, 166169 effective words/s\n",
      "2023-10-24 19:18:31,535 : Word2Vec lifecycle event {'msg': 'training on 16207260 raw words (14583982 effective words) took 73.1s, 199609 effective words/s', 'datetime': '2023-10-24T19:18:31.535909', 'gensim': '4.3.2', 'python': '3.11.4 (tags/v3.11.4:d2340ef, Jun  7 2023, 05:45:37) [MSC v.1934 64 bit (AMD64)]', 'platform': 'Windows-10-10.0.19045-SP0', 'event': 'train'}\n"
     ]
    },
    {
     "data": {
      "text/plain": [
       "(14583982, 16207260)"
      ]
     },
     "execution_count": 29,
     "metadata": {},
     "output_type": "execute_result"
    }
   ],
   "source": [
    "# Treinamento do modelo Skip-Gram\n",
    "w2v_modelo_sg = Word2Vec(sg=1, window=5, vector_size=300, min_count=5, alpha=0.03, min_alpha=0.007)\n",
    "w2v_modelo_sg.build_vocab(lista_lista_tokens, progress_per=5000)\n",
    "w2v_modelo_sg.train(lista_lista_tokens, total_examples=w2v_modelo_sg.corpus_count, epochs=30)"
   ]
  },
  {
   "cell_type": "code",
   "execution_count": 30,
   "metadata": {},
   "outputs": [
    {
     "data": {
      "text/plain": [
       "[('reguladores', 0.4538048505783081),\n",
       " ('android', 0.40502890944480896),\n",
       " ('waze', 0.39599043130874634),\n",
       " ('app', 0.39272433519363403),\n",
       " ('patentes', 0.3813683092594147),\n",
       " ('toshiba', 0.37972643971443176),\n",
       " ('apple', 0.3773418664932251),\n",
       " ('concorda', 0.3703386187553406),\n",
       " ('buffett', 0.3644103407859802),\n",
       " ('facebook', 0.3638223111629486)]"
      ]
     },
     "execution_count": 30,
     "metadata": {},
     "output_type": "execute_result"
    }
   ],
   "source": [
    "w2v_modelo_sg.wv.most_similar(\"google\")"
   ]
  },
  {
   "cell_type": "code",
   "execution_count": 31,
   "metadata": {},
   "outputs": [
    {
     "data": {
      "text/plain": [
       "[('metalúrgicos', 0.5726913809776306),\n",
       " ('motors', 0.5537147521972656),\n",
       " ('bmw', 0.5085549354553223),\n",
       " ('honda', 0.49513164162635803),\n",
       " ('mitsubishi', 0.4906786382198334),\n",
       " ('audi', 0.49007976055145264),\n",
       " ('airbags', 0.4816265404224396),\n",
       " ('coletivas', 0.4765009582042694),\n",
       " ('cubatão', 0.47496771812438965),\n",
       " ('chrysler', 0.4684428870677948)]"
      ]
     },
     "execution_count": 31,
     "metadata": {},
     "output_type": "execute_result"
    }
   ],
   "source": [
    "w2v_modelo_sg.wv.most_similar(\"gm\")"
   ]
  },
  {
   "cell_type": "code",
   "execution_count": 33,
   "metadata": {},
   "outputs": [
    {
     "name": "stderr",
     "output_type": "stream",
     "text": [
      "2023-10-24 19:28:32,092 : storing 12924x300 projection weights into modelo_cbow.txt\n"
     ]
    },
    {
     "name": "stderr",
     "output_type": "stream",
     "text": [
      "2023-10-24 19:28:35,018 : storing 12924x300 projection weights into modelo_skipgram.txt\n"
     ]
    }
   ],
   "source": [
    "w2v_modelo.wv.save_word2vec_format(fname=\"modelo_cbow.txt\", binary=False)\n",
    "w2v_modelo_sg.wv.save_word2vec_format(fname=\"modelo_skipgram.txt\", binary=False)"
   ]
  }
 ],
 "metadata": {
  "kernelspec": {
   "display_name": "Python 3",
   "language": "python",
   "name": "python3"
  },
  "language_info": {
   "codemirror_mode": {
    "name": "ipython",
    "version": 3
   },
   "file_extension": ".py",
   "mimetype": "text/x-python",
   "name": "python",
   "nbconvert_exporter": "python",
   "pygments_lexer": "ipython3",
   "version": "3.11.4"
  }
 },
 "nbformat": 4,
 "nbformat_minor": 2
}
